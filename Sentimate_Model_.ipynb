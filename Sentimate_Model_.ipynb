{
  "nbformat": 4,
  "nbformat_minor": 0,
  "metadata": {
    "colab": {
      "name": "Sentimate Model .ipynb",
      "provenance": [],
      "collapsed_sections": [],
      "authorship_tag": "ABX9TyOUQ0RH6H+xnWJvZTTj/Ft3",
      "include_colab_link": true
    },
    "kernelspec": {
      "name": "python3",
      "display_name": "Python 3"
    },
    "language_info": {
      "name": "python"
    }
  },
  "cells": [
    {
      "cell_type": "markdown",
      "metadata": {
        "id": "view-in-github",
        "colab_type": "text"
      },
      "source": [
        "<a href=\"https://colab.research.google.com/github/Gaikwadpawan3006/Sentimate-Analysis-EDA-On-Twitter-Dataset/blob/main/Sentimate_Model_.ipynb\" target=\"_parent\"><img src=\"https://colab.research.google.com/assets/colab-badge.svg\" alt=\"Open In Colab\"/></a>"
      ]
    },
    {
      "cell_type": "markdown",
      "metadata": {
        "id": "Sb0oziabjLcI"
      },
      "source": [
        "# **Sentimate Model Analysis**"
      ]
    },
    {
      "cell_type": "markdown",
      "metadata": {
        "id": "fCjU4Sw3jTQo"
      },
      "source": [
        "## Name : Gaikwad Pawan Ramesh"
      ]
    },
    {
      "cell_type": "markdown",
      "metadata": {
        "id": "N8QQ-2MPjBPg"
      },
      "source": [
        "## **Import Necessary Libraries**\n",
        "\n",
        "\n"
      ]
    },
    {
      "cell_type": "code",
      "metadata": {
        "id": "_1COmOO3jjQP"
      },
      "source": [
        "import numpy as np  \n",
        "import pandas as pd\n",
        "import tensorflow as tf\n",
        "import seaborn as sns\n",
        "import matplotlib.pyplot as plt\n",
        "from sklearn.utils import shuffle\n"
      ],
      "execution_count": 69,
      "outputs": []
    },
    {
      "cell_type": "markdown",
      "metadata": {
        "id": "St10gQRTjwdH"
      },
      "source": [
        "## **Read and Load the Dataset**"
      ]
    },
    {
      "cell_type": "code",
      "metadata": {
        "id": "0bLGi1Nijpuv"
      },
      "source": [
        "DATASET_COLUMNS=['target','ids','date','flag','user','text']\n",
        "DATASET_ENCODING = \"ISO-8859-1\"\n",
        "dataset = pd.read_csv('training.1600000.processed.noemoticon.csv',encoding=DATASET_ENCODING,names=DATASET_COLUMNS, skiprows=795000, nrows = 10000)"
      ],
      "execution_count": 42,
      "outputs": []
    },
    {
      "cell_type": "markdown",
      "metadata": {
        "id": "yA_SyViPkWrK"
      },
      "source": [
        "## **Exploratory Data Analysis On Dataset**"
      ]
    },
    {
      "cell_type": "markdown",
      "metadata": {
        "id": "uaJskb8mkgLv"
      },
      "source": [
        " **Five top records of data**"
      ]
    },
    {
      "cell_type": "code",
      "metadata": {
        "colab": {
          "base_uri": "https://localhost:8080/",
          "height": 204
        },
        "id": "vL2uzTZOkbmR",
        "outputId": "16f4ca65-dca1-432e-e17d-c8a1de5f20f7"
      },
      "source": [
        "dataset.head()"
      ],
      "execution_count": 43,
      "outputs": [
        {
          "output_type": "execute_result",
          "data": {
            "text/html": [
              "<div>\n",
              "<style scoped>\n",
              "    .dataframe tbody tr th:only-of-type {\n",
              "        vertical-align: middle;\n",
              "    }\n",
              "\n",
              "    .dataframe tbody tr th {\n",
              "        vertical-align: top;\n",
              "    }\n",
              "\n",
              "    .dataframe thead th {\n",
              "        text-align: right;\n",
              "    }\n",
              "</style>\n",
              "<table border=\"1\" class=\"dataframe\">\n",
              "  <thead>\n",
              "    <tr style=\"text-align: right;\">\n",
              "      <th></th>\n",
              "      <th>target</th>\n",
              "      <th>ids</th>\n",
              "      <th>date</th>\n",
              "      <th>flag</th>\n",
              "      <th>user</th>\n",
              "      <th>text</th>\n",
              "    </tr>\n",
              "  </thead>\n",
              "  <tbody>\n",
              "    <tr>\n",
              "      <th>0</th>\n",
              "      <td>0</td>\n",
              "      <td>2327192646</td>\n",
              "      <td>Thu Jun 25 08:02:13 PDT 2009</td>\n",
              "      <td>NO_QUERY</td>\n",
              "      <td>quiz_master</td>\n",
              "      <td>Was having dinner with parents downstairs in D...</td>\n",
              "    </tr>\n",
              "    <tr>\n",
              "      <th>1</th>\n",
              "      <td>0</td>\n",
              "      <td>2327193206</td>\n",
              "      <td>Thu Jun 25 08:02:16 PDT 2009</td>\n",
              "      <td>NO_QUERY</td>\n",
              "      <td>djcampos</td>\n",
              "      <td>Blah 5am still up  daang I got deep problems</td>\n",
              "    </tr>\n",
              "    <tr>\n",
              "      <th>2</th>\n",
              "      <td>0</td>\n",
              "      <td>2327193455</td>\n",
              "      <td>Thu Jun 25 08:02:17 PDT 2009</td>\n",
              "      <td>NO_QUERY</td>\n",
              "      <td>RKF</td>\n",
              "      <td>@jenspeedy I would suggest avoiding 360 Living...</td>\n",
              "    </tr>\n",
              "    <tr>\n",
              "      <th>3</th>\n",
              "      <td>0</td>\n",
              "      <td>2327193641</td>\n",
              "      <td>Thu Jun 25 08:02:18 PDT 2009</td>\n",
              "      <td>NO_QUERY</td>\n",
              "      <td>AnaHertz</td>\n",
              "      <td>@alexbroun I didn't convince myself I was fat ...</td>\n",
              "    </tr>\n",
              "    <tr>\n",
              "      <th>4</th>\n",
              "      <td>0</td>\n",
              "      <td>2327193806</td>\n",
              "      <td>Thu Jun 25 08:02:18 PDT 2009</td>\n",
              "      <td>NO_QUERY</td>\n",
              "      <td>yenafer</td>\n",
              "      <td>@spotzle @jstarrh check on sunscreen, snacks, ...</td>\n",
              "    </tr>\n",
              "  </tbody>\n",
              "</table>\n",
              "</div>"
            ],
            "text/plain": [
              "   target  ...                                               text\n",
              "0       0  ...  Was having dinner with parents downstairs in D...\n",
              "1       0  ...       Blah 5am still up  daang I got deep problems\n",
              "2       0  ...  @jenspeedy I would suggest avoiding 360 Living...\n",
              "3       0  ...  @alexbroun I didn't convince myself I was fat ...\n",
              "4       0  ...  @spotzle @jstarrh check on sunscreen, snacks, ...\n",
              "\n",
              "[5 rows x 6 columns]"
            ]
          },
          "metadata": {},
          "execution_count": 43
        }
      ]
    },
    {
      "cell_type": "markdown",
      "metadata": {
        "id": "EXD7syqukkzp"
      },
      "source": [
        "**Five last records of data**"
      ]
    },
    {
      "cell_type": "code",
      "metadata": {
        "colab": {
          "base_uri": "https://localhost:8080/",
          "height": 289
        },
        "id": "fitRptUjkqC5",
        "outputId": "f7417ec4-7888-4c70-a595-8242395e911b"
      },
      "source": [
        "dataset.tail()"
      ],
      "execution_count": 44,
      "outputs": [
        {
          "output_type": "execute_result",
          "data": {
            "text/html": [
              "<div>\n",
              "<style scoped>\n",
              "    .dataframe tbody tr th:only-of-type {\n",
              "        vertical-align: middle;\n",
              "    }\n",
              "\n",
              "    .dataframe tbody tr th {\n",
              "        vertical-align: top;\n",
              "    }\n",
              "\n",
              "    .dataframe thead th {\n",
              "        text-align: right;\n",
              "    }\n",
              "</style>\n",
              "<table border=\"1\" class=\"dataframe\">\n",
              "  <thead>\n",
              "    <tr style=\"text-align: right;\">\n",
              "      <th></th>\n",
              "      <th>target</th>\n",
              "      <th>ids</th>\n",
              "      <th>date</th>\n",
              "      <th>flag</th>\n",
              "      <th>user</th>\n",
              "      <th>text</th>\n",
              "    </tr>\n",
              "  </thead>\n",
              "  <tbody>\n",
              "    <tr>\n",
              "      <th>9995</th>\n",
              "      <td>4</td>\n",
              "      <td>1468599653</td>\n",
              "      <td>Tue Apr 07 02:39:03 PDT 2009</td>\n",
              "      <td>NO_QUERY</td>\n",
              "      <td>danalynbyers</td>\n",
              "      <td>@lbran, thanks for sending us the package - go...</td>\n",
              "    </tr>\n",
              "    <tr>\n",
              "      <th>9996</th>\n",
              "      <td>4</td>\n",
              "      <td>1468599688</td>\n",
              "      <td>Tue Apr 07 02:39:04 PDT 2009</td>\n",
              "      <td>NO_QUERY</td>\n",
              "      <td>joscelinyeo</td>\n",
              "      <td>@ickleoriental hahahha.. U obviously don't hv ...</td>\n",
              "    </tr>\n",
              "    <tr>\n",
              "      <th>9997</th>\n",
              "      <td>4</td>\n",
              "      <td>1468599702</td>\n",
              "      <td>Tue Apr 07 02:39:04 PDT 2009</td>\n",
              "      <td>NO_QUERY</td>\n",
              "      <td>serengetisunset</td>\n",
              "      <td>@juliekoh It's an internet term, but it's spil...</td>\n",
              "    </tr>\n",
              "    <tr>\n",
              "      <th>9998</th>\n",
              "      <td>4</td>\n",
              "      <td>1468599765</td>\n",
              "      <td>Tue Apr 07 02:39:06 PDT 2009</td>\n",
              "      <td>NO_QUERY</td>\n",
              "      <td>broombeck</td>\n",
              "      <td>new day.... NEW TRACK!!!!</td>\n",
              "    </tr>\n",
              "    <tr>\n",
              "      <th>9999</th>\n",
              "      <td>4</td>\n",
              "      <td>1468599793</td>\n",
              "      <td>Tue Apr 07 02:39:07 PDT 2009</td>\n",
              "      <td>NO_QUERY</td>\n",
              "      <td>aptronym</td>\n",
              "      <td>@foodieguide Okay we need to have a competitio...</td>\n",
              "    </tr>\n",
              "  </tbody>\n",
              "</table>\n",
              "</div>"
            ],
            "text/plain": [
              "      target  ...                                               text\n",
              "9995       4  ...  @lbran, thanks for sending us the package - go...\n",
              "9996       4  ...  @ickleoriental hahahha.. U obviously don't hv ...\n",
              "9997       4  ...  @juliekoh It's an internet term, but it's spil...\n",
              "9998       4  ...                         new day.... NEW TRACK!!!! \n",
              "9999       4  ...  @foodieguide Okay we need to have a competitio...\n",
              "\n",
              "[5 rows x 6 columns]"
            ]
          },
          "metadata": {},
          "execution_count": 44
        }
      ]
    },
    {
      "cell_type": "markdown",
      "metadata": {
        "id": "fAsatIJSrrdP"
      },
      "source": [
        "**Total Number of Columns in Dataset**"
      ]
    },
    {
      "cell_type": "code",
      "metadata": {
        "colab": {
          "base_uri": "https://localhost:8080/"
        },
        "id": "KF2utOhVrmEC",
        "outputId": "0d98edf0-2fb5-420b-b8e7-6d6db3ac6ca5"
      },
      "source": [
        "dataset.columns"
      ],
      "execution_count": 45,
      "outputs": [
        {
          "output_type": "execute_result",
          "data": {
            "text/plain": [
              "Index(['target', 'ids', 'date', 'flag', 'user', 'text'], dtype='object')"
            ]
          },
          "metadata": {},
          "execution_count": 45
        }
      ]
    },
    {
      "cell_type": "markdown",
      "metadata": {
        "id": "0CK18Jy0lT1h"
      },
      "source": [
        "**Shape of data**"
      ]
    },
    {
      "cell_type": "code",
      "metadata": {
        "colab": {
          "base_uri": "https://localhost:8080/"
        },
        "id": "MgGbvJ_kk-gU",
        "outputId": "37eaed57-1910-41a5-b0bb-e2c04b72b5dd"
      },
      "source": [
        "dataset.shape"
      ],
      "execution_count": 46,
      "outputs": [
        {
          "output_type": "execute_result",
          "data": {
            "text/plain": [
              "(10000, 6)"
            ]
          },
          "metadata": {},
          "execution_count": 46
        }
      ]
    },
    {
      "cell_type": "code",
      "metadata": {
        "colab": {
          "base_uri": "https://localhost:8080/"
        },
        "id": "lDFFvHAMvYiO",
        "outputId": "e8fac61d-532b-4da3-d41f-f7001a5c0832"
      },
      "source": [
        "dataset['target'].dtype"
      ],
      "execution_count": 68,
      "outputs": [
        {
          "output_type": "execute_result",
          "data": {
            "text/plain": [
              "dtype('int64')"
            ]
          },
          "metadata": {},
          "execution_count": 68
        }
      ]
    },
    {
      "cell_type": "markdown",
      "metadata": {
        "id": "RWd2bkyGmdCo"
      },
      "source": [
        "**detail of dataset in max,std,count**"
      ]
    },
    {
      "cell_type": "code",
      "metadata": {
        "colab": {
          "base_uri": "https://localhost:8080/",
          "height": 297
        },
        "id": "sOue7CQrmXhX",
        "outputId": "48ac2e8d-dd8b-4662-bfb4-a5a99c1075a3"
      },
      "source": [
        "dataset.describe()"
      ],
      "execution_count": 47,
      "outputs": [
        {
          "output_type": "execute_result",
          "data": {
            "text/html": [
              "<div>\n",
              "<style scoped>\n",
              "    .dataframe tbody tr th:only-of-type {\n",
              "        vertical-align: middle;\n",
              "    }\n",
              "\n",
              "    .dataframe tbody tr th {\n",
              "        vertical-align: top;\n",
              "    }\n",
              "\n",
              "    .dataframe thead th {\n",
              "        text-align: right;\n",
              "    }\n",
              "</style>\n",
              "<table border=\"1\" class=\"dataframe\">\n",
              "  <thead>\n",
              "    <tr style=\"text-align: right;\">\n",
              "      <th></th>\n",
              "      <th>target</th>\n",
              "      <th>ids</th>\n",
              "    </tr>\n",
              "  </thead>\n",
              "  <tbody>\n",
              "    <tr>\n",
              "      <th>count</th>\n",
              "      <td>10000.0000</td>\n",
              "      <td>1.000000e+04</td>\n",
              "    </tr>\n",
              "    <tr>\n",
              "      <th>mean</th>\n",
              "      <td>2.0000</td>\n",
              "      <td>1.898212e+09</td>\n",
              "    </tr>\n",
              "    <tr>\n",
              "      <th>std</th>\n",
              "      <td>2.0001</td>\n",
              "      <td>4.300023e+08</td>\n",
              "    </tr>\n",
              "    <tr>\n",
              "      <th>min</th>\n",
              "      <td>0.0000</td>\n",
              "      <td>1.467822e+09</td>\n",
              "    </tr>\n",
              "    <tr>\n",
              "      <th>25%</th>\n",
              "      <td>0.0000</td>\n",
              "      <td>1.468239e+09</td>\n",
              "    </tr>\n",
              "    <tr>\n",
              "      <th>50%</th>\n",
              "      <td>2.0000</td>\n",
              "      <td>1.897896e+09</td>\n",
              "    </tr>\n",
              "    <tr>\n",
              "      <th>75%</th>\n",
              "      <td>4.0000</td>\n",
              "      <td>2.328189e+09</td>\n",
              "    </tr>\n",
              "    <tr>\n",
              "      <th>max</th>\n",
              "      <td>4.0000</td>\n",
              "      <td>2.329206e+09</td>\n",
              "    </tr>\n",
              "  </tbody>\n",
              "</table>\n",
              "</div>"
            ],
            "text/plain": [
              "           target           ids\n",
              "count  10000.0000  1.000000e+04\n",
              "mean       2.0000  1.898212e+09\n",
              "std        2.0001  4.300023e+08\n",
              "min        0.0000  1.467822e+09\n",
              "25%        0.0000  1.468239e+09\n",
              "50%        2.0000  1.897896e+09\n",
              "75%        4.0000  2.328189e+09\n",
              "max        4.0000  2.329206e+09"
            ]
          },
          "metadata": {},
          "execution_count": 47
        }
      ]
    },
    {
      "cell_type": "markdown",
      "metadata": {
        "id": "kE0clWn2lhr9"
      },
      "source": [
        "**Data information**"
      ]
    },
    {
      "cell_type": "code",
      "metadata": {
        "colab": {
          "base_uri": "https://localhost:8080/"
        },
        "id": "wRRhQGHMlYzg",
        "outputId": "f7a0c865-cc7a-4ce1-a900-44d384597f6d"
      },
      "source": [
        "dataset.info()"
      ],
      "execution_count": 48,
      "outputs": [
        {
          "output_type": "stream",
          "name": "stdout",
          "text": [
            "<class 'pandas.core.frame.DataFrame'>\n",
            "RangeIndex: 10000 entries, 0 to 9999\n",
            "Data columns (total 6 columns):\n",
            " #   Column  Non-Null Count  Dtype \n",
            "---  ------  --------------  ----- \n",
            " 0   target  10000 non-null  int64 \n",
            " 1   ids     10000 non-null  int64 \n",
            " 2   date    10000 non-null  object\n",
            " 3   flag    10000 non-null  object\n",
            " 4   user    10000 non-null  object\n",
            " 5   text    10000 non-null  object\n",
            "dtypes: int64(2), object(4)\n",
            "memory usage: 468.9+ KB\n"
          ]
        }
      ]
    },
    {
      "cell_type": "code",
      "metadata": {
        "colab": {
          "base_uri": "https://localhost:8080/"
        },
        "id": "exBWYTMxls-9",
        "outputId": "e4d05f7c-4992-47d3-9206-7da1718351ac"
      },
      "source": [
        "dataset['target'].value_counts()\n"
      ],
      "execution_count": 49,
      "outputs": [
        {
          "output_type": "execute_result",
          "data": {
            "text/plain": [
              "4    5000\n",
              "0    5000\n",
              "Name: target, dtype: int64"
            ]
          },
          "metadata": {},
          "execution_count": 49
        }
      ]
    },
    {
      "cell_type": "markdown",
      "metadata": {
        "id": "n7Qfhab5mM6B"
      },
      "source": [
        "**Checking for missing values**"
      ]
    },
    {
      "cell_type": "code",
      "metadata": {
        "colab": {
          "base_uri": "https://localhost:8080/"
        },
        "id": "J5oG8iuGmN5X",
        "outputId": "c3518d46-5655-4b7b-d768-19dd9c61881a"
      },
      "source": [
        "dataset.isnull().sum()"
      ],
      "execution_count": 50,
      "outputs": [
        {
          "output_type": "execute_result",
          "data": {
            "text/plain": [
              "target    0\n",
              "ids       0\n",
              "date      0\n",
              "flag      0\n",
              "user      0\n",
              "text      0\n",
              "dtype: int64"
            ]
          },
          "metadata": {},
          "execution_count": 50
        }
      ]
    },
    {
      "cell_type": "markdown",
      "metadata": {
        "id": "FsxneCrLmyow"
      },
      "source": [
        "# **Data Preprocessing**"
      ]
    },
    {
      "cell_type": "markdown",
      "metadata": {
        "id": "qi0ZfsjVm2rP"
      },
      "source": [
        "**Selecting the text and Target column for our further analysis**"
      ]
    },
    {
      "cell_type": "code",
      "metadata": {
        "id": "bUSEfBSdm6JA"
      },
      "source": [
        "data=dataset[['text','target']]"
      ],
      "execution_count": 51,
      "outputs": []
    },
    {
      "cell_type": "markdown",
      "metadata": {
        "id": "p2oX53Lim-LC"
      },
      "source": [
        "**Print unique values of target**"
      ]
    },
    {
      "cell_type": "code",
      "metadata": {
        "colab": {
          "base_uri": "https://localhost:8080/"
        },
        "id": "NhQe_7Uim-63",
        "outputId": "54daf09e-5625-4388-cbb9-8e6a8423d365"
      },
      "source": [
        "data['target'].unique()"
      ],
      "execution_count": 52,
      "outputs": [
        {
          "output_type": "execute_result",
          "data": {
            "text/plain": [
              "array([0, 4])"
            ]
          },
          "metadata": {},
          "execution_count": 52
        }
      ]
    },
    {
      "cell_type": "code",
      "metadata": {
        "colab": {
          "base_uri": "https://localhost:8080/"
        },
        "id": "iHX5wawKweTo",
        "outputId": "04141357-ac9c-49ca-e87a-7a221487114b"
      },
      "source": [
        "dataset['user'].unique()"
      ],
      "execution_count": 77,
      "outputs": [
        {
          "output_type": "execute_result",
          "data": {
            "text/plain": [
              "array(['swgalibertarian', 'captain_jen', 'UntoldElegance', ...,\n",
              "       'AlexneedsJK', 'redsoxjustine', 'Celticpussycat'], dtype=object)"
            ]
          },
          "metadata": {},
          "execution_count": 77
        }
      ]
    },
    {
      "cell_type": "markdown",
      "metadata": {
        "id": "O5GPnAuZnEB_"
      },
      "source": [
        "**Replacing the values to ease understanding. (Assigning 1 to Positive sentiment 4)**"
      ]
    },
    {
      "cell_type": "code",
      "metadata": {
        "id": "7RufNDetnFeQ"
      },
      "source": [
        "dataset['target'] = dataset['target'].replace(4,1)"
      ],
      "execution_count": 53,
      "outputs": []
    },
    {
      "cell_type": "markdown",
      "metadata": {
        "id": "eIRFcOOxnN7G"
      },
      "source": [
        "**Print unique values of target**"
      ]
    },
    {
      "cell_type": "code",
      "metadata": {
        "colab": {
          "base_uri": "https://localhost:8080/"
        },
        "id": "cyDCd3pfnQ-3",
        "outputId": "35129cc9-f8eb-414b-f658-943116b9ee78"
      },
      "source": [
        "data['target'].unique()"
      ],
      "execution_count": 70,
      "outputs": [
        {
          "output_type": "execute_result",
          "data": {
            "text/plain": [
              "array([0, 4])"
            ]
          },
          "metadata": {},
          "execution_count": 70
        }
      ]
    },
    {
      "cell_type": "markdown",
      "metadata": {
        "id": "fCrpf3jFoc2A"
      },
      "source": [
        "**Target class is balanced after subsetting the data**"
      ]
    },
    {
      "cell_type": "code",
      "metadata": {
        "colab": {
          "base_uri": "https://localhost:8080/"
        },
        "id": "dYjCQ2n1ogU5",
        "outputId": "b72cd07d-d3a7-4888-e547-fb3eb8e9becd"
      },
      "source": [
        "dataset['target'].value_counts()"
      ],
      "execution_count": 71,
      "outputs": [
        {
          "output_type": "execute_result",
          "data": {
            "text/plain": [
              "0    5000\n",
              "1    4999\n",
              "Name: target, dtype: int64"
            ]
          },
          "metadata": {},
          "execution_count": 71
        }
      ]
    },
    {
      "cell_type": "markdown",
      "metadata": {
        "id": "VYyAC96FovHk"
      },
      "source": [
        "**Applying the Preprocess Function on the subset data**"
      ]
    },
    {
      "cell_type": "code",
      "metadata": {
        "id": "m9GMWfTzowuf"
      },
      "source": [
        "dataset['text'] = dataset['text'].apply(lambda x: preprocess(x))"
      ],
      "execution_count": 72,
      "outputs": []
    },
    {
      "cell_type": "markdown",
      "metadata": {
        "id": "a8R6hTIamTkf"
      },
      "source": [
        "# **Data Visualization of Target Variables**"
      ]
    },
    {
      "cell_type": "code",
      "metadata": {
        "colab": {
          "base_uri": "https://localhost:8080/",
          "height": 296
        },
        "id": "2a6DMSjMmrvx",
        "outputId": "f5c3db72-59e7-44be-e404-3cf4d5a90ac5"
      },
      "source": [
        "import seaborn as sns\n",
        "sns.countplot(x='target', data=dataset)"
      ],
      "execution_count": 63,
      "outputs": [
        {
          "output_type": "execute_result",
          "data": {
            "text/plain": [
              "<matplotlib.axes._subplots.AxesSubplot at 0x7f5099e52990>"
            ]
          },
          "metadata": {},
          "execution_count": 63
        },
        {
          "output_type": "display_data",
          "data": {
            "image/png": "[encoded data removed]",
            "text/plain": [
              "<Figure size 432x288 with 1 Axes>"
            ]
          },
          "metadata": {
            "needs_background": "light"
          }
        }
      ]
    },
    {
      "cell_type": "code",
      "metadata": {
        "colab": {
          "base_uri": "https://localhost:8080/",
          "height": 309
        },
        "id": "H5b7hdhVxCrZ",
        "outputId": "25cac6a1-24e5-43ad-dd87-19615efd732a"
      },
      "source": [
        "dataset.plot(kind = 'bar')"
      ],
      "execution_count": 88,
      "outputs": [
        {
          "output_type": "execute_result",
          "data": {
            "text/plain": [
              "<matplotlib.axes._subplots.AxesSubplot at 0x7f5099e61910>"
            ]
          },
          "metadata": {},
          "execution_count": 88
        },
        {
          "output_type": "display_data",
          "data": {
            "image/png": "[encoded data removed]",
            "text/plain": [
              "<Figure size 432x288 with 1 Axes>"
            ]
          },
          "metadata": {
            "needs_background": "light"
          }
        }
      ]
    },
    {
      "cell_type": "code",
      "metadata": {
        "colab": {
          "base_uri": "https://localhost:8080/",
          "height": 281
        },
        "id": "iNqW_RzsxLZ8",
        "outputId": "1fb0c7be-967f-469c-acd8-ac56ff30a258"
      },
      "source": [
        "dataset.hist(bins=np.arange(0, 5, 0.5)-0.25)\n",
        "plt.grid(False)\n",
        "plt.show()"
      ],
      "execution_count": 80,
      "outputs": [
        {
          "output_type": "display_data",
          "data": {
            "image/png": "[encoded data removed]",
            "text/plain": [
              "<Figure size 432x288 with 2 Axes>"
            ]
          },
          "metadata": {
            "needs_background": "light"
          }
        }
      ]
    },
    {
      "cell_type": "code",
      "metadata": {
        "colab": {
          "base_uri": "https://localhost:8080/",
          "height": 180
        },
        "id": "jBj3qDKDyQLj",
        "outputId": "3f482a24-3a40-4790-c88e-24e87be7a42b"
      },
      "source": [
        "import matplotlib.pyplot as plt\n",
        "plt.bar(count.keys(), count.values())"
      ],
      "execution_count": 89,
      "outputs": [
        {
          "output_type": "error",
          "ename": "NameError",
          "evalue": "ignored",
          "traceback": [
            "\u001b[0;31m---------------------------------------------------------------------------\u001b[0m",
            "\u001b[0;31mNameError\u001b[0m                                 Traceback (most recent call last)",
            "\u001b[0;32m<ipython-input-89-61005d85f29f>\u001b[0m in \u001b[0;36m<module>\u001b[0;34m()\u001b[0m\n\u001b[1;32m      1\u001b[0m \u001b[0;32mimport\u001b[0m \u001b[0mmatplotlib\u001b[0m\u001b[0;34m.\u001b[0m\u001b[0mpyplot\u001b[0m \u001b[0;32mas\u001b[0m \u001b[0mplt\u001b[0m\u001b[0;34m\u001b[0m\u001b[0;34m\u001b[0m\u001b[0m\n\u001b[0;32m----> 2\u001b[0;31m \u001b[0mplt\u001b[0m\u001b[0;34m.\u001b[0m\u001b[0mbar\u001b[0m\u001b[0;34m(\u001b[0m\u001b[0mcount\u001b[0m\u001b[0;34m.\u001b[0m\u001b[0mkeys\u001b[0m\u001b[0;34m(\u001b[0m\u001b[0;34m)\u001b[0m\u001b[0;34m,\u001b[0m \u001b[0mcount\u001b[0m\u001b[0;34m.\u001b[0m\u001b[0mvalues\u001b[0m\u001b[0;34m(\u001b[0m\u001b[0;34m)\u001b[0m\u001b[0;34m)\u001b[0m\u001b[0;34m\u001b[0m\u001b[0;34m\u001b[0m\u001b[0m\n\u001b[0m",
            "\u001b[0;31mNameError\u001b[0m: name 'count' is not defined"
          ]
        }
      ]
    },
    {
      "cell_type": "code",
      "metadata": {
        "id": "BPrayUtpzbMi"
      },
      "source": [
        "users = dataset['user'].value_counts()[:10]\n",
        "users.plot(kind='bar', color='red')"
      ],
      "execution_count": null,
      "outputs": []
    },
    {
      "cell_type": "code",
      "metadata": {
        "colab": {
          "base_uri": "https://localhost:8080/",
          "height": 279
        },
        "id": "-1wAeEYFzqrN",
        "outputId": "56281429-6431-48e9-9124-1650c7f19a5f"
      },
      "source": [
        "x = dataset.target.value_counts()\n",
        "x.plot(kind='bar')"
      ],
      "execution_count": 90,
      "outputs": [
        {
          "output_type": "execute_result",
          "data": {
            "text/plain": [
              "<matplotlib.axes._subplots.AxesSubplot at 0x7f508f117550>"
            ]
          },
          "metadata": {},
          "execution_count": 90
        },
        {
          "output_type": "display_data",
          "data": {
            "image/png": "[encoded data removed]",
            "text/plain": [
              "<Figure size 432x288 with 1 Axes>"
            ]
          },
          "metadata": {
            "needs_background": "light"
          }
        }
      ]
    },
    {
      "cell_type": "code",
      "metadata": {
        "id": "jA7Qm8aTzzmr"
      },
      "source": [
        ""
      ],
      "execution_count": null,
      "outputs": []
    }
  ]
}